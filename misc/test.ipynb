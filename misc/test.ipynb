{
 "cells": [
  {
   "cell_type": "code",
   "execution_count": 4,
   "metadata": {},
   "outputs": [
    {
     "name": "stdout",
     "output_type": "stream",
     "text": [
      "1\n",
      "0.17328679513998635\n",
      "0.039952259230580774\n",
      "0.009793701878413375\n",
      "0.002436513606057899\n",
      "0.0006083875298805392\n",
      "0.0001520506343037536\n",
      "3.8009768944453373e-05\n",
      "9.502261647866603e-06\n",
      "2.375554125408422e-06\n"
     ]
    }
   ],
   "source": [
    "import numpy as np\n",
    "\n",
    "x = 1\n",
    "\n",
    "for i in range(10):\n",
    "    print(x)\n",
    "    x = 0.5*np.log(np.sqrt(x+1))"
   ]
  },
  {
   "cell_type": "code",
   "execution_count": 7,
   "metadata": {},
   "outputs": [
    {
     "name": "stdout",
     "output_type": "stream",
     "text": [
      "1\n",
      "0.17328679513998632\n",
      "0.03995225923058076\n",
      "0.009793701878413379\n",
      "0.002436513606057902\n",
      "0.0006083875298806197\n",
      "0.0001520506343037498\n",
      "3.800976894443351e-05\n",
      "9.502261647890332e-06\n",
      "2.3755541254433524e-06\n"
     ]
    }
   ],
   "source": [
    "import numpy as np\n",
    "\n",
    "x = 1\n",
    "\n",
    "for i in range(10):\n",
    "    print(x)\n",
    "    x = 0.25*np.log(x+1)"
   ]
  }
 ],
 "metadata": {
  "kernelspec": {
   "display_name": ".venv",
   "language": "python",
   "name": "python3"
  },
  "language_info": {
   "codemirror_mode": {
    "name": "ipython",
    "version": 3
   },
   "file_extension": ".py",
   "mimetype": "text/x-python",
   "name": "python",
   "nbconvert_exporter": "python",
   "pygments_lexer": "ipython3",
   "version": "3.11.6"
  }
 },
 "nbformat": 4,
 "nbformat_minor": 2
}
