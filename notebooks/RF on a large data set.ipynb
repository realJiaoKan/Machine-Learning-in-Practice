{
 "cells": [
  {
   "cell_type": "code",
   "execution_count": 1,
   "id": "323292b4-eea3-4cd4-8b73-30de76fc9f86",
   "metadata": {},
   "outputs": [],
   "source": [
    "# base modules\n",
    "import os\n",
    "import sys\n",
    "import copy\n",
    "\n",
    "# for manipulating data\n",
    "import numpy as np\n",
    "import pandas as pd\n",
    "import math\n",
    "import dill\n",
    "import gc\n",
    "\n",
    "# for Machine Learning\n",
    "from sklearn.ensemble import RandomForestRegressor, RandomForestClassifier, BaggingRegressor\n",
    "from sklearn.tree import DecisionTreeRegressor, DecisionTreeClassifier, plot_tree\n",
    "\n",
    "# for visualization\n",
    "from IPython.display import display\n",
    "from matplotlib import pyplot as plt"
   ]
  },
  {
   "cell_type": "code",
   "execution_count": 2,
   "id": "b1c54f41-05d4-4a2e-81f1-c22493d5a056",
   "metadata": {},
   "outputs": [
    {
     "data": {
      "text/plain": [
       "'/Users/jiaokan/Workshop/Machine Learning in Practice'"
      ]
     },
     "execution_count": 2,
     "metadata": {},
     "output_type": "execute_result"
    }
   ],
   "source": [
    "# path to repo\n",
    "path_to_repo = os.path.dirname(os.getcwd())\n",
    "sys.path.insert(0, os.path.join(path_to_repo, 'src'))\n",
    "\n",
    "path_to_repo"
   ]
  },
  {
   "cell_type": "code",
   "execution_count": 3,
   "id": "cf3e3dd5-3f75-4adf-8b75-cb77ea770095",
   "metadata": {},
   "outputs": [],
   "source": [
    "# custom module\n",
    "from mlpcourse.utils import *"
   ]
  },
  {
   "cell_type": "code",
   "execution_count": 4,
   "id": "5f7a8d10-6af8-4ff0-88f8-b18216304a2b",
   "metadata": {},
   "outputs": [
    {
     "data": {
      "text/plain": [
       "8"
      ]
     },
     "execution_count": 4,
     "metadata": {},
     "output_type": "execute_result"
    }
   ],
   "source": [
    "# number of CPUs on my machine:\n",
    "os.cpu_count()"
   ]
  },
  {
   "cell_type": "markdown",
   "id": "773a06b3-4980-442f-9ad9-63b14529bf4d",
   "metadata": {},
   "source": [
    "### Load and preprocess data"
   ]
  },
  {
   "cell_type": "markdown",
   "id": "9f97ad70-46ae-4ade-afc8-7bdd339869f4",
   "metadata": {},
   "source": [
    "We'll work with the huge data set of the Corporation Favorita Grocery Sales Forecasting kaggle competition from 2018.\n",
    "\n",
    "Data avaiable [here](https://www.kaggle.com/c/favorita-grocery-sales-forecasting/data)"
   ]
  },
  {
   "cell_type": "code",
   "execution_count": 5,
   "id": "9ca9a730",
   "metadata": {},
   "outputs": [],
   "source": [
    "# types = {'id': 'int64',\n",
    "#          'int_nbr': 'int32',\n",
    "#          'store_nbr': 'int8',\n",
    "#          'unit_sales': 'float32',\n",
    "#          'onpromotion': 'object'}  # boolean with missing values"
   ]
  },
  {
   "cell_type": "code",
   "execution_count": null,
   "id": "db1b9faf",
   "metadata": {},
   "outputs": [],
   "source": [
    "# df_all = pd.read_csv('../data/train.csv',  parse_dates=['date'], dtype=types)\n",
    "# path_to_dataset = os.path.join(\n",
    "#     path_to_repo, \"data\", 'raw_groceries_full')\n",
    "\n",
    "# df_all = pd.read_feather(path_to_dataset)\n",
    "\n",
    "# df_chunks = pd.read_csv('../data/train.csv',\n",
    "#                         parse_dates=['date'], dtype=types, chunksize=100000000)\n",
    "# df_all = pd.concat(df_chunks)"
   ]
  },
  {
   "cell_type": "code",
   "execution_count": 8,
   "id": "4ddfb911",
   "metadata": {},
   "outputs": [],
   "source": [
    "# df_all.onpromotion.fillna(False, inplace=True)\n",
    "# df_all.onpromotion = df_all.onpromotion.map({'False': False, 'True': True})\n",
    "# df_all.onpromotion = df_all.onpromotion.astype(bool)\n",
    "\n",
    "# %time df_all.to_feather('raw_groceries')"
   ]
  },
  {
   "cell_type": "code",
   "execution_count": null,
   "id": "d31230a2",
   "metadata": {},
   "outputs": [],
   "source": [
    "# %time df_all.describe(include='all')"
   ]
  },
  {
   "cell_type": "code",
   "execution_count": 10,
   "id": "779dbc02",
   "metadata": {},
   "outputs": [],
   "source": [
    "# df_all.unit_sales = np.log1p(np.clip(df_all.unit_sales, 0, None))\n",
    "# cutoff neg values of unit_sales, take log + 1"
   ]
  },
  {
   "cell_type": "code",
   "execution_count": null,
   "id": "38a7e21a",
   "metadata": {},
   "outputs": [],
   "source": [
    "# %%time\n",
    "# add_datepart(df_all, 'date')"
   ]
  },
  {
   "cell_type": "code",
   "execution_count": null,
   "id": "0fb4fa62",
   "metadata": {},
   "outputs": [],
   "source": [
    "# df_all"
   ]
  },
  {
   "cell_type": "code",
   "execution_count": 23,
   "id": "1e6092c0",
   "metadata": {},
   "outputs": [],
   "source": [
    "# df_all.to_feather('raw_groceries')"
   ]
  },
  {
   "cell_type": "code",
   "execution_count": null,
   "id": "d94b9979-2dae-4422-8171-ba0df24b16be",
   "metadata": {},
   "outputs": [],
   "source": [
    "# items = pd.read_csv('items.csv')\n",
    "# items.shape"
   ]
  },
  {
   "cell_type": "code",
   "execution_count": null,
   "id": "78857357-e867-499c-baee-bad32441f807",
   "metadata": {},
   "outputs": [],
   "source": [
    "# items.head()"
   ]
  },
  {
   "cell_type": "code",
   "execution_count": null,
   "id": "8f9eb569-824d-4583-956b-bcf59946d13f",
   "metadata": {},
   "outputs": [],
   "source": [
    "# items.dtypes"
   ]
  },
  {
   "cell_type": "code",
   "execution_count": null,
   "id": "5940e879-ee88-41dc-baa9-28e8fc0feebd",
   "metadata": {},
   "outputs": [],
   "source": [
    "# items.item_nbr.unique().shape"
   ]
  },
  {
   "cell_type": "code",
   "execution_count": null,
   "id": "21f12e1c-36f4-4f4d-b8f1-803b87c6cf95",
   "metadata": {},
   "outputs": [],
   "source": [
    "# items.family.unique()"
   ]
  },
  {
   "cell_type": "code",
   "execution_count": 17,
   "id": "0befd559-be5a-43f7-8d09-d9f463fc22f6",
   "metadata": {},
   "outputs": [],
   "source": [
    "# train_cats(items)"
   ]
  },
  {
   "cell_type": "code",
   "execution_count": null,
   "id": "1da17ea3-cee2-495d-b43b-98bdc27eb547",
   "metadata": {},
   "outputs": [],
   "source": [
    "# items.family.cat.codes.unique()"
   ]
  },
  {
   "cell_type": "code",
   "execution_count": 19,
   "id": "8797fb40-e771-437e-b060-9172cd329449",
   "metadata": {},
   "outputs": [],
   "source": [
    "# items.family = items.family.cat.codes"
   ]
  },
  {
   "cell_type": "code",
   "execution_count": 20,
   "id": "6e3af93e-7d23-4fbf-9ae8-d905f53b1c22",
   "metadata": {},
   "outputs": [],
   "source": [
    "# items.to_feather('items')"
   ]
  },
  {
   "cell_type": "code",
   "execution_count": null,
   "id": "04183acd-1072-4573-a058-5c9a1be8b906",
   "metadata": {},
   "outputs": [],
   "source": [
    "# itms = df_all['item_nbr'].to_numpy()\n",
    "# itms.shape"
   ]
  },
  {
   "cell_type": "code",
   "execution_count": null,
   "id": "3f2cb9f1-709f-4871-95d7-241792dd7729",
   "metadata": {},
   "outputs": [],
   "source": [
    "# itms[:10]"
   ]
  },
  {
   "cell_type": "code",
   "execution_count": 23,
   "id": "e81d406e-aa98-4d02-ab42-d16c5be91f35",
   "metadata": {},
   "outputs": [],
   "source": [
    "# fam = dict(zip(items.item_nbr, items.family))\n",
    "# cls = dict(zip(items.item_nbr, items['class']))\n",
    "# per = dict(zip(items.item_nbr, items.perishable))"
   ]
  },
  {
   "cell_type": "code",
   "execution_count": 25,
   "id": "b4d23115-1c9d-4ef1-81ad-355c79da00ed",
   "metadata": {},
   "outputs": [],
   "source": [
    "# def apply_dict_to_array(conversion_dict, input_array):\n",
    "#     k = np.array(list(conversion_dict.keys()))\n",
    "#     v = np.array(list(conversion_dict.values()))\n",
    "\n",
    "#     mapping_ar = np.zeros(k.max()+1, dtype=v.dtype)\n",
    "#     mapping_ar[k] = v\n",
    "#     return mapping_ar[input_array]"
   ]
  },
  {
   "cell_type": "code",
   "execution_count": 26,
   "id": "4828ac9f-eca2-41e5-aea6-90dd1710b9a1",
   "metadata": {},
   "outputs": [],
   "source": [
    "# fam_col = apply_dict_to_array(fam, itms)\n",
    "# cls_col = apply_dict_to_array(cls, itms)\n",
    "# per_col = apply_dict_to_array(per, itms)"
   ]
  },
  {
   "cell_type": "code",
   "execution_count": 27,
   "id": "4462bc8b-0af4-490c-9783-6ef6ac93490c",
   "metadata": {},
   "outputs": [],
   "source": [
    "# df_all['family'] = fam_col\n",
    "# df_all['class'] = cls_col\n",
    "# df_all['perishable'] = per_col"
   ]
  },
  {
   "cell_type": "code",
   "execution_count": 13,
   "id": "320cd9b4-2704-4808-93da-49667688267a",
   "metadata": {},
   "outputs": [],
   "source": [
    "# df_all.to_feather('raw_groceries')"
   ]
  },
  {
   "cell_type": "code",
   "execution_count": 40,
   "id": "884314ea-e86b-4743-b843-681138287cc3",
   "metadata": {},
   "outputs": [],
   "source": [
    "# df_all = pd.read_feather('raw_groceries')"
   ]
  },
  {
   "cell_type": "code",
   "execution_count": null,
   "id": "859caa51-ba87-4fa5-9c08-e8635dbf423a",
   "metadata": {},
   "outputs": [],
   "source": [
    "# df_all.head()"
   ]
  },
  {
   "cell_type": "code",
   "execution_count": 29,
   "id": "061f9e4e-692c-4693-b407-2afbad5ac99f",
   "metadata": {},
   "outputs": [],
   "source": [
    "# stores = pd.read_csv('stores.csv')"
   ]
  },
  {
   "cell_type": "code",
   "execution_count": null,
   "id": "1aafb640-aca9-47b2-be70-18ac970e273c",
   "metadata": {},
   "outputs": [],
   "source": [
    "# stores.shape"
   ]
  },
  {
   "cell_type": "code",
   "execution_count": null,
   "id": "93d79071-5271-4972-8588-d7ab7c7a42f2",
   "metadata": {},
   "outputs": [],
   "source": [
    "# stores.dtypes"
   ]
  },
  {
   "cell_type": "code",
   "execution_count": null,
   "id": "a13b44e9-69d7-49a0-992c-889518d3d029",
   "metadata": {},
   "outputs": [],
   "source": [
    "# stores.head()"
   ]
  },
  {
   "cell_type": "code",
   "execution_count": 33,
   "id": "8e98385b-058e-4aee-9818-c9078d902214",
   "metadata": {},
   "outputs": [],
   "source": [
    "# train_cats(stores)"
   ]
  },
  {
   "cell_type": "code",
   "execution_count": 34,
   "id": "034ec6f2-3213-4f19-8058-980308f7078b",
   "metadata": {},
   "outputs": [],
   "source": [
    "# stores.city = stores.city.cat.codes\n",
    "# stores.state = stores.state.cat.codes\n",
    "# stores.type = stores.type.cat.codes"
   ]
  },
  {
   "cell_type": "code",
   "execution_count": 35,
   "id": "5986d86f-b92b-4f24-a2d6-8d52d29c8aae",
   "metadata": {},
   "outputs": [],
   "source": [
    "# city = dict(zip(stores.store_nbr, stores.city))\n",
    "# state = dict(zip(stores.store_nbr, stores.state))\n",
    "# type = dict(zip(stores.store_nbr, stores.type))"
   ]
  },
  {
   "cell_type": "code",
   "execution_count": null,
   "id": "5bd93fb4-4163-4cf1-8cb2-79277ca25ebd",
   "metadata": {},
   "outputs": [],
   "source": [
    "# stores_in_db = df_all['store_nbr'].to_numpy()\n",
    "# stores_in_db.shape"
   ]
  },
  {
   "cell_type": "code",
   "execution_count": 37,
   "id": "32231fbe-d14f-48fa-8f3e-2728d3486f91",
   "metadata": {},
   "outputs": [],
   "source": [
    "# city_col = apply_dict_to_array(city, stores_in_db)\n",
    "# state_col = apply_dict_to_array(state, stores_in_db)\n",
    "# type_col = apply_dict_to_array(tpe, stores_in_db)"
   ]
  },
  {
   "cell_type": "code",
   "execution_count": 38,
   "id": "28d2ba7b-5aa9-4cb9-9bb7-aa63d858fbf7",
   "metadata": {},
   "outputs": [],
   "source": [
    "# df_all['city'] = city_col\n",
    "# df_all['state'] = state_col\n",
    "# df_all['type'] = tpe_col"
   ]
  },
  {
   "cell_type": "code",
   "execution_count": 59,
   "id": "02e69e27-b5e1-41fd-a4ad-fb64fede7123",
   "metadata": {},
   "outputs": [],
   "source": [
    "# df_all.to_feather('raw_groceries')"
   ]
  },
  {
   "cell_type": "code",
   "execution_count": null,
   "id": "1b2618ca-d875-4550-8adc-348f44697c4c",
   "metadata": {},
   "outputs": [],
   "source": [
    "# df_all = pd.read_feather('raw_groceries')\n",
    "# df_all.head()"
   ]
  },
  {
   "cell_type": "markdown",
   "id": "c45c0bb7-019c-44ac-96e1-1fcf2a54b1ab",
   "metadata": {},
   "source": [
    "features considered by kaggle winners:\n",
    "- store x item\n",
    "- store x class\n",
    "- ...\n",
    "\n",
    "plus a fine feature engineering (including computing means of products prices over various time windows)"
   ]
  },
  {
   "cell_type": "code",
   "execution_count": 40,
   "id": "15a9b200-a718-4484-886a-4bb8bafaee9f",
   "metadata": {},
   "outputs": [],
   "source": [
    "# df_all['store_nbr x item_nr'] = df_all['store_nbr'] * df_all['item_nbr']\n",
    "# df_all['store_nbr x class'] = df_all['store_nbr'] * df_all['class']"
   ]
  },
  {
   "cell_type": "code",
   "execution_count": null,
   "id": "945cf8db-df8a-4514-8d70-d821afd8d395",
   "metadata": {},
   "outputs": [],
   "source": [
    "# df_all.head()"
   ]
  },
  {
   "cell_type": "code",
   "execution_count": 44,
   "id": "050f9e30-b377-4c93-848c-acd9e646dddc",
   "metadata": {},
   "outputs": [],
   "source": [
    "# df_all.to_feather('raw_groceries_full')"
   ]
  },
  {
   "cell_type": "markdown",
   "id": "0a39c3f6",
   "metadata": {
    "jp-MarkdownHeadingCollapsed": true
   },
   "source": [
    "### Fit"
   ]
  },
  {
   "cell_type": "code",
   "execution_count": 53,
   "id": "86b5b87b",
   "metadata": {},
   "outputs": [],
   "source": [
    "# df_all = pd.read_feather('raw_groceries_full')"
   ]
  },
  {
   "cell_type": "code",
   "execution_count": null,
   "id": "4fd938b8-8fe2-4e9e-95b1-9261377cdcd8",
   "metadata": {},
   "outputs": [],
   "source": [
    "# df_all.shape"
   ]
  },
  {
   "cell_type": "markdown",
   "id": "f14cfb5c-0e36-4b6d-9ec2-17c8d4ca63d1",
   "metadata": {},
   "source": [
    "Kaggle first rankers used only 2017 data..."
   ]
  },
  {
   "cell_type": "code",
   "execution_count": 55,
   "id": "84449695-b7e7-4eb5-88e3-5c757672b669",
   "metadata": {},
   "outputs": [],
   "source": [
    "# df = df_all[df_all['Year'] == 2017].copy()"
   ]
  },
  {
   "cell_type": "code",
   "execution_count": null,
   "id": "b734ffe0",
   "metadata": {},
   "outputs": [],
   "source": []
  },
  {
   "cell_type": "code",
   "execution_count": null,
   "id": "1003b019-1343-4236-a608-3a63ec471f6c",
   "metadata": {},
   "outputs": [],
   "source": [
    "df.shape"
   ]
  },
  {
   "cell_type": "code",
   "execution_count": 57,
   "id": "fc42547e-1822-4785-b91c-a88843485406",
   "metadata": {},
   "outputs": [],
   "source": [
    "del df_all"
   ]
  },
  {
   "cell_type": "code",
   "execution_count": null,
   "id": "915c03a6-dc42-46a5-b128-6648a4bad436",
   "metadata": {},
   "outputs": [],
   "source": [
    "gc.collect()"
   ]
  },
  {
   "cell_type": "code",
   "execution_count": 59,
   "id": "889b1870",
   "metadata": {},
   "outputs": [],
   "source": [
    "def split_vals(a, n): return a[:n].copy(), a[n:].copy()"
   ]
  },
  {
   "cell_type": "code",
   "execution_count": null,
   "id": "aebacc9a",
   "metadata": {},
   "outputs": [],
   "source": [
    "n_valid = 3370464\n",
    "n_trn = len(df) - n_valid\n",
    "train, valid = split_vals(df, n_trn)\n",
    "train.shape, valid.shape"
   ]
  },
  {
   "cell_type": "code",
   "execution_count": 15,
   "id": "e960bc55-9933-42c2-9ac9-7f6166cfbee9",
   "metadata": {},
   "outputs": [],
   "source": [
    "def nwrmsle(y_true, y_pred, w):\n",
    "    \"\"\"x_per bool array with value 1 if item is perishable, 0 else\"\"\"\n",
    "    return math.sqrt((w*((y_true-y_pred)**2)).sum() / w.sum())\n",
    "# def rmse(y_true, y_pred):\n",
    "#     return math.sqrt(((y_true - y_pred)**2).mean())"
   ]
  },
  {
   "cell_type": "code",
   "execution_count": 16,
   "id": "22219514-416a-4c23-bc8f-f56469d6a244",
   "metadata": {},
   "outputs": [],
   "source": [
    "def print_score(m, X_train, y_train, X_valid, y_valid):\n",
    "    w_trn = 1 + .25*X_train[:, -1]  # extract `perishable` column\n",
    "    w_val = 1 + .25*X_valid[:, -1]  # extract `perishable` column\n",
    "    print('NWRMSLE on train set: {:.4f}'.format(\n",
    "        nwrmsle(m.predict(X_train), y_train, w_trn)))\n",
    "    print('NWRMSLE on valid set: {:.4f}'.format(\n",
    "        nwrmsle(m.predict(X_valid), y_valid, w_val)))\n",
    "    print('R^2 on train set: {:.4f}'.format(m.score(X_train, y_train)))\n",
    "    print('R^2 on valid set: {:.4f}'.format(m.score(X_valid, y_valid)))\n",
    "    if hasattr(m, 'oob_score_'):\n",
    "        print('R^2 on oob set: {:.4f}'.format(m.oob_score_))\n",
    "    return"
   ]
  },
  {
   "cell_type": "markdown",
   "id": "d6408d91-5331-49bd-9222-38af5cef4b72",
   "metadata": {
    "jp-MarkdownHeadingCollapsed": true
   },
   "source": [
    "#### Train on 2017 data"
   ]
  },
  {
   "cell_type": "markdown",
   "id": "1106d1e0-8a1e-4d75-9ade-91ac0c80c4d5",
   "metadata": {},
   "source": [
    "NB: do NOT use OOB_score (would be slow to evaluate performance of a tree outside the small subset it was trained on)"
   ]
  },
  {
   "cell_type": "code",
   "execution_count": null,
   "id": "e692b403-5802-43f0-a436-fc781cdd0dda",
   "metadata": {},
   "outputs": [],
   "source": [
    "train.shape"
   ]
  },
  {
   "cell_type": "code",
   "execution_count": null,
   "id": "c07883e2-103b-493d-80ef-10be23a995e7",
   "metadata": {},
   "outputs": [],
   "source": [
    "%%time\n",
    "trn, y, _ = proc_df(train, 'unit_sales')"
   ]
  },
  {
   "cell_type": "code",
   "execution_count": null,
   "id": "cbc7264e-615e-417f-8d6e-fe6318ce8688",
   "metadata": {},
   "outputs": [],
   "source": [
    "%%time\n",
    "val, y_val, _ = proc_df(valid, 'unit_sales')"
   ]
  },
  {
   "cell_type": "code",
   "execution_count": 66,
   "id": "44c44819-41c2-4700-a875-15a49cc2b71f",
   "metadata": {},
   "outputs": [],
   "source": [
    "model = RandomForestRegressor(n_jobs=-1,\n",
    "                              n_estimators=10,\n",
    "                              max_samples=10_000)"
   ]
  },
  {
   "cell_type": "code",
   "execution_count": null,
   "id": "3f53c49c-6861-4e11-9b4e-a6f02dcc13ae",
   "metadata": {
    "scrolled": true
   },
   "outputs": [],
   "source": [
    "%prun model.fit(trn,y)"
   ]
  },
  {
   "cell_type": "markdown",
   "id": "0036410a-2ba8-4aca-8c84-2bac21221aad",
   "metadata": {},
   "source": [
    "We see that sklearn spends a lot of time converting our input df (trn) into a numpy.ndarray, so let's convert it before calling the fit method:"
   ]
  },
  {
   "cell_type": "code",
   "execution_count": null,
   "id": "9504ce59-720a-46c3-b1e9-71cbbed324a4",
   "metadata": {},
   "outputs": [],
   "source": [
    "%time x = np.array(trn, dtype=np.float32)"
   ]
  },
  {
   "cell_type": "code",
   "execution_count": null,
   "id": "c029cb6f-80a7-4706-8a64-808ea5fef6fc",
   "metadata": {},
   "outputs": [],
   "source": [
    "%time x_val = np.array(val, dtype=np.float32)"
   ]
  },
  {
   "cell_type": "markdown",
   "id": "5c165ed4-5663-469f-8768-d77a9961e23f",
   "metadata": {},
   "source": [
    "Let's run lots of trees on small subsets (with `max_samples` set small):"
   ]
  },
  {
   "cell_type": "code",
   "execution_count": null,
   "id": "e027934b-f611-4641-993a-1fa745728879",
   "metadata": {},
   "outputs": [],
   "source": [
    "m = RandomForestRegressor(n_jobs=-1,\n",
    "                          n_estimators=200,\n",
    "                          # max_depth=10,\n",
    "                          min_samples_leaf=100,\n",
    "                          max_features=0.75,\n",
    "                          max_samples=20_000)\n",
    "%time m.fit(x,y)"
   ]
  },
  {
   "cell_type": "code",
   "execution_count": null,
   "id": "9cb790b1-2fc2-4338-9f18-a03df8c91e68",
   "metadata": {},
   "outputs": [],
   "source": [
    "print_score(m, x, y, x_val, y_val)"
   ]
  },
  {
   "cell_type": "code",
   "execution_count": null,
   "id": "4640bfb4-0b7d-4d67-8f71-0c75eb26f15e",
   "metadata": {},
   "outputs": [],
   "source": [
    "gc.collect()"
   ]
  },
  {
   "cell_type": "code",
   "execution_count": null,
   "id": "5d8179df-87f7-41a2-90cd-0907e418f334",
   "metadata": {},
   "outputs": [],
   "source": [
    "m = RandomForestRegressor(n_jobs=-1,\n",
    "                          n_estimators=500,\n",
    "                          # max_depth=10,\n",
    "                          min_samples_leaf=50,\n",
    "                          max_features=0.75,\n",
    "                          max_samples=50_000)\n",
    "%time m.fit(x,y)"
   ]
  },
  {
   "cell_type": "code",
   "execution_count": null,
   "id": "5ee6a0f9-561f-4ff9-b602-8863f200a3e9",
   "metadata": {},
   "outputs": [],
   "source": [
    "print_score(m, x, y, x_val, y_val)"
   ]
  },
  {
   "cell_type": "code",
   "execution_count": null,
   "id": "9fdc791e-39ff-4089-afe6-7175f20dc4e8",
   "metadata": {},
   "outputs": [],
   "source": [
    "gc.collect()"
   ]
  },
  {
   "cell_type": "code",
   "execution_count": null,
   "id": "f04d9a68-2c0b-4791-a6b8-3522d77978ba",
   "metadata": {},
   "outputs": [],
   "source": [
    "m = RandomForestRegressor(n_jobs=-1,\n",
    "                          n_estimators=50,\n",
    "                          # max_depth=10,\n",
    "                          min_samples_leaf=50,\n",
    "                          max_features=0.75,\n",
    "                          max_samples=1_000_000)\n",
    "%time m.fit(x,y)"
   ]
  },
  {
   "cell_type": "code",
   "execution_count": null,
   "id": "65bae488-6cd6-4f24-8852-d56985636c44",
   "metadata": {},
   "outputs": [],
   "source": [
    "print_score(m, x, y, x_val, y_val)\n",
    "gc.collect()"
   ]
  },
  {
   "cell_type": "code",
   "execution_count": null,
   "id": "cd038105-ddf9-4cbd-a134-06e2ad1ead5b",
   "metadata": {},
   "outputs": [],
   "source": [
    "m = RandomForestRegressor(n_jobs=-1,\n",
    "                          n_estimators=10,\n",
    "                          # max_depth=10,\n",
    "                          min_samples_leaf=50,\n",
    "                          max_features=0.75,\n",
    "                          max_samples=5_000_000)\n",
    "%time m.fit(x,y)"
   ]
  },
  {
   "cell_type": "code",
   "execution_count": null,
   "id": "b9a1ea50-d5b3-4453-a3b3-bc117a6bc38a",
   "metadata": {},
   "outputs": [],
   "source": [
    "print_score(m, x, y, x_val, y_val)\n",
    "gc.collect()"
   ]
  },
  {
   "cell_type": "code",
   "execution_count": null,
   "id": "48d60f33-3db4-4f31-8e22-e5d6a1c9e44c",
   "metadata": {},
   "outputs": [],
   "source": [
    "m = RandomForestRegressor(n_jobs=-1,\n",
    "                          n_estimators=5,\n",
    "                          # max_depth=10,\n",
    "                          min_samples_leaf=50,\n",
    "                          max_features=0.75,\n",
    "                          max_samples=10_000_000)\n",
    "%time m.fit(x,y)"
   ]
  },
  {
   "cell_type": "code",
   "execution_count": null,
   "id": "d9640524-1806-4724-877c-d03516639ff5",
   "metadata": {},
   "outputs": [],
   "source": [
    "print_score(m, x, y, x_val, y_val)\n",
    "gc.collect()"
   ]
  },
  {
   "cell_type": "code",
   "execution_count": null,
   "id": "a8e0b78b-c2db-473d-bb85-9a5fad0203c0",
   "metadata": {},
   "outputs": [],
   "source": [
    "x.shape"
   ]
  },
  {
   "cell_type": "code",
   "execution_count": null,
   "id": "6941c09e-13ce-4afc-99de-64f591436e80",
   "metadata": {},
   "outputs": [],
   "source": [
    "m = RandomForestRegressor(n_jobs=-1,\n",
    "                          n_estimators=5,\n",
    "                          # max_depth=10,\n",
    "                          min_samples_leaf=50,\n",
    "                          max_features=0.75,\n",
    "                          max_samples=0.7)\n",
    "%time m.fit(x,y)"
   ]
  },
  {
   "cell_type": "code",
   "execution_count": null,
   "id": "ef9b3d50-1e7e-40df-9078-feaffddf48e1",
   "metadata": {},
   "outputs": [],
   "source": [
    "print_score(m, x, y, x_val, y_val)\n",
    "gc.collect()"
   ]
  },
  {
   "cell_type": "markdown",
   "id": "102e54e5-8038-4dd3-aaab-092ce2d8384f",
   "metadata": {},
   "source": [
    "and we'd be in top 1000..."
   ]
  },
  {
   "cell_type": "code",
   "execution_count": null,
   "id": "b946d7cb-4882-493b-abd5-6b963d656e26",
   "metadata": {},
   "outputs": [],
   "source": [
    "m = RandomForestRegressor(n_jobs=-1,\n",
    "                          n_estimators=5,\n",
    "                          # max_depth=10,\n",
    "                          min_samples_leaf=50,\n",
    "                          max_features=0.75,\n",
    "                          max_samples=0.8)\n",
    "%time m.fit(x,y)"
   ]
  },
  {
   "cell_type": "code",
   "execution_count": null,
   "id": "57123c2c-2a15-4119-aa94-c2827d21cfac",
   "metadata": {},
   "outputs": [],
   "source": [
    "print_score(m, x, y, x_val, y_val)\n",
    "gc.collect()"
   ]
  },
  {
   "cell_type": "code",
   "execution_count": null,
   "id": "a5668fa0-d282-4264-8ee2-a37bf562810e",
   "metadata": {},
   "outputs": [],
   "source": [
    "m = RandomForestRegressor(n_jobs=-1,\n",
    "                          n_estimators=10,\n",
    "                          # max_depth=10,\n",
    "                          min_samples_leaf=50,\n",
    "                          max_features=0.75,\n",
    "                          max_samples=0.6)\n",
    "%time m.fit(x,y)"
   ]
  },
  {
   "cell_type": "code",
   "execution_count": null,
   "id": "da56947d-3241-4eee-8d85-e86507fdf6c7",
   "metadata": {},
   "outputs": [],
   "source": [
    "print_score(m, x, y, x_val, y_val)\n",
    "gc.collect()"
   ]
  },
  {
   "cell_type": "markdown",
   "id": "c7d368b6-9010-4835-8443-e049a88dc2e0",
   "metadata": {
    "jp-MarkdownHeadingCollapsed": true
   },
   "source": [
    "#### Train and validate on kaggle winner's data"
   ]
  },
  {
   "cell_type": "markdown",
   "id": "4f5dad85-e535-4dad-a8f5-20cad64180e1",
   "metadata": {},
   "source": [
    "See winner's solution [here](https://www.kaggle.com/competitions/favorita-grocery-sales-forecasting/discussion/47582)"
   ]
  },
  {
   "cell_type": "markdown",
   "id": "3ccea48c-ddcb-4ac7-afa1-f2d3f7240a39",
   "metadata": {},
   "source": [
    "train: 20170614 - 20170719 (id=118867503 to id=122667528)\n",
    "\n",
    "valid: 20170726 - 20170810 (id=123296175 to id=124975583)"
   ]
  },
  {
   "cell_type": "code",
   "execution_count": 6,
   "id": "e8faf2c4-8ede-4c55-b4c2-ec1ef8828f3b",
   "metadata": {},
   "outputs": [],
   "source": [
    "df = pd.read_feather('raw_groceries_full')"
   ]
  },
  {
   "cell_type": "code",
   "execution_count": 7,
   "id": "fb3295ae-0d37-4c10-9dea-4fd00a9cf2a5",
   "metadata": {},
   "outputs": [],
   "source": [
    "df_train = df[(df['id'] >= 118867503) & (df['id'] < 122667528)]\n",
    "df_test = df[(df['id'] >= 123296175) & (df['id'] < 124975583)]\n",
    "del df"
   ]
  },
  {
   "cell_type": "code",
   "execution_count": null,
   "id": "98c3d1d8-644d-46e4-82b1-4dcc2a0119ed",
   "metadata": {},
   "outputs": [],
   "source": [
    "df_train.head()"
   ]
  },
  {
   "cell_type": "code",
   "execution_count": null,
   "id": "38130ff6-d6af-4cb6-8d4c-6cc3bea9af6e",
   "metadata": {},
   "outputs": [],
   "source": [
    "df_train.shape, df_test.shape"
   ]
  },
  {
   "cell_type": "code",
   "execution_count": 9,
   "id": "5a366d49-93ea-473e-86ce-1d9e98551e13",
   "metadata": {},
   "outputs": [],
   "source": [
    "trn, y, _ = proc_df(df_train, 'unit_sales')\n",
    "val, y_val, _ = proc_df(df_test, 'unit_sales')"
   ]
  },
  {
   "cell_type": "code",
   "execution_count": null,
   "id": "606ebade-89e4-4599-bd97-a6b1ee62559d",
   "metadata": {},
   "outputs": [],
   "source": [
    "%time x = np.array(trn, dtype=np.float32)\n",
    "# try also np.float16"
   ]
  },
  {
   "cell_type": "code",
   "execution_count": null,
   "id": "09c152a2-63ee-4a6d-a9b3-6752ca145bc0",
   "metadata": {},
   "outputs": [],
   "source": [
    "%time x_val = np.array(val, dtype=np.float32)"
   ]
  },
  {
   "cell_type": "code",
   "execution_count": null,
   "id": "1cea4eac-fdf2-4617-af4a-33925938906f",
   "metadata": {},
   "outputs": [],
   "source": [
    "gc.collect()"
   ]
  },
  {
   "cell_type": "code",
   "execution_count": null,
   "id": "39113745-7f9f-449e-9081-5c1669c140c0",
   "metadata": {},
   "outputs": [],
   "source": [
    "m = RandomForestRegressor(n_jobs=-1,\n",
    "                          n_estimators=25,\n",
    "                          # max_depth=10,\n",
    "                          min_samples_leaf=10,\n",
    "                          max_features=0.9,\n",
    "                          max_samples=0.5,\n",
    "                         )\n",
    "%time m.fit(x,y)"
   ]
  },
  {
   "cell_type": "code",
   "execution_count": null,
   "id": "5f2dc564-be8a-4888-b4c1-6d702e357e0e",
   "metadata": {},
   "outputs": [],
   "source": [
    "%time print_score(m,x,y,x_val,y_val)\n",
    "gc.collect()"
   ]
  },
  {
   "cell_type": "code",
   "execution_count": null,
   "id": "e0e913b2-7afc-43f1-ba79-58d4f79108ff",
   "metadata": {},
   "outputs": [],
   "source": [
    "m = RandomForestRegressor(n_jobs=-1,\n",
    "                          n_estimators=25,\n",
    "                          # max_depth=10,\n",
    "                          min_samples_leaf=10,\n",
    "                          max_features=0.9,\n",
    "                          # bootstrap = True\n",
    "                          max_samples=0.9,\n",
    "                         )\n",
    "%time m.fit(x,y)"
   ]
  },
  {
   "cell_type": "code",
   "execution_count": null,
   "id": "508d81b7-726c-4750-a1e6-2df8823cd70f",
   "metadata": {},
   "outputs": [],
   "source": [
    "%time print_score(m,x,y,x_val,y_val)\n",
    "gc.collect()"
   ]
  },
  {
   "cell_type": "code",
   "execution_count": null,
   "id": "a356feb9-07aa-45e8-b058-4df8e61c6195",
   "metadata": {},
   "outputs": [],
   "source": [
    "preds = np.stack([tree.predict(x_val)\n",
    "                 for tree in m.estimators_])  # or np.asarray()\n",
    "w_val = 1 + .25*x_val[:, -6]  # extract `perishable` column\n",
    "\n",
    "plt.plot([\n",
    "    # r2_score(y_val, np.mean(preds[:num_trees], axis = 0))\n",
    "    nwrmsle(np.mean(preds[:num_trees], axis=0), y_val, w_val)\n",
    "    for num_trees in range(1, 26)\n",
    "])"
   ]
  },
  {
   "cell_type": "code",
   "execution_count": null,
   "id": "13a7a90b-dffa-45bb-8d28-5d15ff5ade7d",
   "metadata": {},
   "outputs": [],
   "source": [
    "m = RandomForestRegressor(n_jobs=-1,\n",
    "                          n_estimators=30,\n",
    "                          # max_depth=10,\n",
    "                          min_samples_leaf=5,\n",
    "                          max_features=0.9,\n",
    "                          # bootstrap = True\n",
    "                          max_samples=0.9,\n",
    "                         )\n",
    "%time m.fit(x,y)"
   ]
  },
  {
   "cell_type": "code",
   "execution_count": null,
   "id": "c60f7641-eec4-48b4-ac55-94c0ce96b127",
   "metadata": {},
   "outputs": [],
   "source": [
    "%time print_score(m,x,y,x_val,y_val)\n",
    "gc.collect()"
   ]
  }
 ],
 "metadata": {
  "kernelspec": {
   "display_name": ".venv",
   "language": "python",
   "name": "python3"
  },
  "language_info": {
   "codemirror_mode": {
    "name": "ipython",
    "version": 3
   },
   "file_extension": ".py",
   "mimetype": "text/x-python",
   "name": "python",
   "nbconvert_exporter": "python",
   "pygments_lexer": "ipython3",
   "version": "3.11.10"
  }
 },
 "nbformat": 4,
 "nbformat_minor": 5
}
